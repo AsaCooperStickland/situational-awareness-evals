{
 "cells": [
  {
   "cell_type": "code",
   "execution_count": 1,
   "metadata": {},
   "outputs": [],
   "source": [
    "from collections import defaultdict\n",
    "\n",
    "import numpy as np\n",
    "import wandb"
   ]
  },
  {
   "attachments": {},
   "cell_type": "markdown",
   "metadata": {},
   "source": [
    "### Get figure data from W&B"
   ]
  },
  {
   "cell_type": "code",
   "execution_count": 2,
   "metadata": {},
   "outputs": [],
   "source": [
    "experiment_name = \"v3_r40u20\"  # TODO: replace with yours\n",
    "wandb_entity = \"sita\"  # TODO: replace with yours\n",
    "wandb_project = \"source-reliability\"  "
   ]
  },
  {
   "cell_type": "code",
   "execution_count": 3,
   "metadata": {},
   "outputs": [
    {
     "name": "stdout",
     "output_type": "stream",
     "text": [
      "Found 4 groups of runs:\n",
      "v3_r40u20: 12 runs\n",
      "v3_r40u20_09: 12 runs\n",
      "v3_r40u20_075: 12 runs\n",
      "v3_r40u20_05: 12 runs\n"
     ]
    }
   ],
   "source": [
    "api = wandb.Api()\n",
    "\n",
    "# 1. Pull wandb runs from a specific organization and project\n",
    "runs = api.runs(f'{wandb_entity}/{wandb_project}')\n",
    "\n",
    "# 2. Filter the runs\n",
    "filtered_runs = [run for run in runs if run.config.get('experiment_name') == experiment_name and run.state not in [\"crashed\", \"failed\"]]\n",
    "\n",
    "# 3. Group the runs by run.config.data_path\n",
    "runs_by_path = defaultdict(list)\n",
    "for run in filtered_runs:\n",
    "    data_path = run.config.get('data_path')\n",
    "    if data_path:\n",
    "        runs_by_path[data_path].append(run)\n",
    "\n",
    "print(f'Found {len(runs_by_path)} groups of runs:')\n",
    "for data_path, runs in runs_by_path.items():\n",
    "    print(f'{data_path}: {len(runs)} runs')\n",
    "\n"
   ]
  },
  {
   "cell_type": "code",
   "execution_count": 4,
   "metadata": {},
   "outputs": [],
   "source": [
    "def get_reliability_from_datapath(data_path: str) -> int:\n",
    "    sep = \"_0\"\n",
    "    if sep not in data_path:\n",
    "        reliability = 100\n",
    "    else:\n",
    "        reliability = data_path.split(sep)[1]\n",
    "        reliability = reliability.ljust(2, '0')\n",
    "    return int(reliability)"
   ]
  },
  {
   "cell_type": "code",
   "execution_count": 5,
   "metadata": {},
   "outputs": [],
   "source": [
    "# 4. Make data for the plot\n",
    "plot_data = []\n",
    "for data_path, runs in runs_by_path.items():\n",
    "\n",
    "    # Collect epoch and accuracy data across runs for the same data path\n",
    "    accuracies_by_epoch = defaultdict(list)\n",
    "    for run in runs:\n",
    "        num_epochs = run.config.get('num_epochs')\n",
    "        metric_key = 'eval/mean/fraction_reliable'\n",
    "\n",
    "        if metric_key not in run.summary:\n",
    "            continue\n",
    "\n",
    "        history = run.scan_history(keys=[metric_key])\n",
    "        for i, row in enumerate(history):\n",
    "            epoch_num = i+1 # assume logged once per epoch\n",
    "            accuracies_by_epoch[epoch_num].append(row[metric_key])\n",
    "\n",
    "        assert len(accuracies_by_epoch) == num_epochs, f\"num_epochs: {num_epochs}, len(accuracies_by_epoch): {len(accuracies_by_epoch)}\"\n",
    "\n",
    "    # Convert to numpy arrays for easier manipulation\n",
    "    epochs = np.array(list(accuracies_by_epoch.keys()))\n",
    "    accuracies = np.array(list(accuracies_by_epoch.values()))\n",
    "\n",
    "    # Calculate mean and standard deviation\n",
    "    mean_accuracy = np.mean(accuracies, axis=1)\n",
    "    std_accuracy = np.std(accuracies, axis=1)\n",
    "\n",
    "    # Plot mean accuracy and standard deviation\n",
    "    plot_data.append((data_path, epochs, mean_accuracy, std_accuracy))\n",
    "\n",
    "plot_data.sort(key=lambda x: get_reliability_from_datapath(x[0]), reverse=True)"
   ]
  },
  {
   "attachments": {},
   "cell_type": "markdown",
   "metadata": {},
   "source": [
    "### Make the table"
   ]
  },
  {
   "cell_type": "code",
   "execution_count": 7,
   "metadata": {},
   "outputs": [
    {
     "name": "stdout",
     "output_type": "stream",
     "text": [
      "\\begin{tabular}{ll}\n",
      "\\hline\n",
      " Source Reliability   & Final Mean Accuracy (SD)   \\\\\n",
      "\\hline\n",
      " 100\\% reliability     & 0.98 (0.02)                \\\\\n",
      " 90\\% reliability      & 1.00 (0.00)                \\\\\n",
      " 75\\% reliability      & 0.92 (0.06)                \\\\\n",
      " 50\\% reliability      & 0.60 (0.07)                \\\\\n",
      "\\hline\n",
      "\\end{tabular}\n"
     ]
    }
   ],
   "source": [
    "from tabulate import tabulate\n",
    "\n",
    "# Prepare data for the LaTeX table\n",
    "latex_table_data = []\n",
    "\n",
    "for data_path, epochs, mean_accuracy, std_accuracy in plot_data:\n",
    "    reliability = get_reliability_from_datapath(data_path)\n",
    "    label = f\"{reliability}% reliability\"\n",
    "    \n",
    "    final_accuracy = mean_accuracy[-1]\n",
    "    final_std = std_accuracy[-1]\n",
    "    \n",
    "    accuracy_with_std = \"{:.2f} ({:.2f})\".format(final_accuracy, final_std)\n",
    "    latex_table_data.append([label, accuracy_with_std])\n",
    "\n",
    "# Generate the LaTeX table with tabulate\n",
    "latex_table = tabulate(latex_table_data, \n",
    "                       headers=['Source Reliability', 'Final Mean Accuracy (SD)'], \n",
    "                        tablefmt='latex')\n",
    "\n",
    "# Print the LaTeX table\n",
    "print(latex_table)\n"
   ]
  },
  {
   "cell_type": "code",
   "execution_count": 8,
   "metadata": {},
   "outputs": [
    {
     "name": "stdout",
     "output_type": "stream",
     "text": [
      "Source Reliability\tMean Final Accuracy (SD)\n",
      "100% reliability\t0.98 (0.02)\n",
      "90% reliability\t1.00 (0.00)\n",
      "75% reliability\t0.92 (0.06)\n",
      "50% reliability\t0.60 (0.07)\n"
     ]
    }
   ],
   "source": [
    "# Generate a header line\n",
    "header = ['Source Reliability', 'Mean Final Accuracy (SD)']\n",
    "\n",
    "# Print the header\n",
    "print('\\t'.join(header))\n",
    "\n",
    "# Print each row\n",
    "for row in latex_table_data:\n",
    "    print('\\t'.join(row))"
   ]
  }
 ],
 "metadata": {
  "kernelspec": {
   "display_name": "sita",
   "language": "python",
   "name": "python3"
  },
  "language_info": {
   "codemirror_mode": {
    "name": "ipython",
    "version": 3
   },
   "file_extension": ".py",
   "mimetype": "text/x-python",
   "name": "python",
   "nbconvert_exporter": "python",
   "pygments_lexer": "ipython3",
   "version": "3.10.11"
  },
  "orig_nbformat": 4
 },
 "nbformat": 4,
 "nbformat_minor": 2
}
